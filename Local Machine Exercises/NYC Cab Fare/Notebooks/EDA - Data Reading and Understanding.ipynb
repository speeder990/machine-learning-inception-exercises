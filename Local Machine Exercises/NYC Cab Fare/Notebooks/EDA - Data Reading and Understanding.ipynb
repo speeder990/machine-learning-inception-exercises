{
 "cells": [
  {
   "cell_type": "markdown",
   "metadata": {},
   "source": [
    "## Import neccessary libraries"
   ]
  },
  {
   "cell_type": "code",
   "execution_count": 1,
   "metadata": {},
   "outputs": [],
   "source": [
    "import pandas as pd\n",
    "import matplotlib.pyplot as plt\n",
    "import numpy as np\n",
    "\n",
    "pd.set_option('display.float_format',lambda x: '%.3f' %x)"
   ]
  },
  {
   "cell_type": "markdown",
   "metadata": {},
   "source": [
    "## Data Reading and Sampling"
   ]
  },
  {
   "cell_type": "markdown",
   "metadata": {},
   "source": [
    "### Let's read our nyc cab fare training data into memmory"
   ]
  },
  {
   "cell_type": "code",
   "execution_count": 2,
   "metadata": {},
   "outputs": [],
   "source": [
    "df = pd.read_csv('sample_abc.csv')"
   ]
  },
  {
   "cell_type": "markdown",
   "metadata": {},
   "source": [
    "### Let's look at the top 2 observations of the data to get an idea of the dataset values and schema"
   ]
  },
  {
   "cell_type": "code",
   "execution_count": 3,
   "metadata": {},
   "outputs": [
    {
     "data": {
      "text/html": [
       "<div>\n",
       "<style scoped>\n",
       "    .dataframe tbody tr th:only-of-type {\n",
       "        vertical-align: middle;\n",
       "    }\n",
       "\n",
       "    .dataframe tbody tr th {\n",
       "        vertical-align: top;\n",
       "    }\n",
       "\n",
       "    .dataframe thead th {\n",
       "        text-align: right;\n",
       "    }\n",
       "</style>\n",
       "<table border=\"1\" class=\"dataframe\">\n",
       "  <thead>\n",
       "    <tr style=\"text-align: right;\">\n",
       "      <th></th>\n",
       "      <th>key</th>\n",
       "      <th>fare_amount</th>\n",
       "      <th>pickup_datetime</th>\n",
       "      <th>pickup_longitude</th>\n",
       "      <th>pickup_latitude</th>\n",
       "      <th>dropoff_longitude</th>\n",
       "      <th>dropoff_latitude</th>\n",
       "      <th>passenger_count</th>\n",
       "    </tr>\n",
       "  </thead>\n",
       "  <tbody>\n",
       "    <tr>\n",
       "      <th>0</th>\n",
       "      <td>2013-09-05 06:48:00.00000016</td>\n",
       "      <td>34.830</td>\n",
       "      <td>2013-09-05 06:48:00 UTC</td>\n",
       "      <td>-73.974</td>\n",
       "      <td>40.792</td>\n",
       "      <td>-73.862</td>\n",
       "      <td>40.768</td>\n",
       "      <td>2</td>\n",
       "    </tr>\n",
       "    <tr>\n",
       "      <th>1</th>\n",
       "      <td>2015-03-14 14:50:48.0000001</td>\n",
       "      <td>22.500</td>\n",
       "      <td>2015-03-14 14:50:48 UTC</td>\n",
       "      <td>-73.977</td>\n",
       "      <td>40.723</td>\n",
       "      <td>-73.956</td>\n",
       "      <td>40.781</td>\n",
       "      <td>1</td>\n",
       "    </tr>\n",
       "  </tbody>\n",
       "</table>\n",
       "</div>"
      ],
      "text/plain": [
       "                            key  fare_amount          pickup_datetime  \\\n",
       "0  2013-09-05 06:48:00.00000016       34.830  2013-09-05 06:48:00 UTC   \n",
       "1   2015-03-14 14:50:48.0000001       22.500  2015-03-14 14:50:48 UTC   \n",
       "\n",
       "   pickup_longitude  pickup_latitude  dropoff_longitude  dropoff_latitude  \\\n",
       "0           -73.974           40.792            -73.862            40.768   \n",
       "1           -73.977           40.723            -73.956            40.781   \n",
       "\n",
       "   passenger_count  \n",
       "0                2  \n",
       "1                1  "
      ]
     },
     "execution_count": 3,
     "metadata": {},
     "output_type": "execute_result"
    }
   ],
   "source": [
    "df.head(2)"
   ]
  },
  {
   "cell_type": "markdown",
   "metadata": {},
   "source": [
    "### Let's see how many total observations are present in this dataset (in Millions)"
   ]
  },
  {
   "cell_type": "code",
   "execution_count": 8,
   "metadata": {},
   "outputs": [
    {
     "name": "stdout",
     "output_type": "stream",
     "text": [
      "0.1 Million Rows\n"
     ]
    }
   ],
   "source": [
    "print(str(round(df.shape[0]/1000000.0,2)) + \" Million Rows\")"
   ]
  },
  {
   "cell_type": "markdown",
   "metadata": {},
   "source": [
    "### Let's describe the full dataset"
   ]
  },
  {
   "cell_type": "code",
   "execution_count": 6,
   "metadata": {},
   "outputs": [
    {
     "data": {
      "text/html": [
       "<div>\n",
       "<style scoped>\n",
       "    .dataframe tbody tr th:only-of-type {\n",
       "        vertical-align: middle;\n",
       "    }\n",
       "\n",
       "    .dataframe tbody tr th {\n",
       "        vertical-align: top;\n",
       "    }\n",
       "\n",
       "    .dataframe thead th {\n",
       "        text-align: right;\n",
       "    }\n",
       "</style>\n",
       "<table border=\"1\" class=\"dataframe\">\n",
       "  <thead>\n",
       "    <tr style=\"text-align: right;\">\n",
       "      <th></th>\n",
       "      <th>key</th>\n",
       "      <th>fare_amount</th>\n",
       "      <th>pickup_datetime</th>\n",
       "      <th>pickup_longitude</th>\n",
       "      <th>pickup_latitude</th>\n",
       "      <th>dropoff_longitude</th>\n",
       "      <th>dropoff_latitude</th>\n",
       "      <th>passenger_count</th>\n",
       "    </tr>\n",
       "  </thead>\n",
       "  <tbody>\n",
       "    <tr>\n",
       "      <th>count</th>\n",
       "      <td>100000</td>\n",
       "      <td>100000.000</td>\n",
       "      <td>100000</td>\n",
       "      <td>100000.000</td>\n",
       "      <td>100000.000</td>\n",
       "      <td>100000.000</td>\n",
       "      <td>100000.000</td>\n",
       "      <td>100000.000</td>\n",
       "    </tr>\n",
       "    <tr>\n",
       "      <th>unique</th>\n",
       "      <td>100000</td>\n",
       "      <td>nan</td>\n",
       "      <td>99111</td>\n",
       "      <td>nan</td>\n",
       "      <td>nan</td>\n",
       "      <td>nan</td>\n",
       "      <td>nan</td>\n",
       "      <td>nan</td>\n",
       "    </tr>\n",
       "    <tr>\n",
       "      <th>top</th>\n",
       "      <td>2014-06-14 16:32:19.0000002</td>\n",
       "      <td>nan</td>\n",
       "      <td>2012-09-18 19:44:00 UTC</td>\n",
       "      <td>nan</td>\n",
       "      <td>nan</td>\n",
       "      <td>nan</td>\n",
       "      <td>nan</td>\n",
       "      <td>nan</td>\n",
       "    </tr>\n",
       "    <tr>\n",
       "      <th>freq</th>\n",
       "      <td>1</td>\n",
       "      <td>nan</td>\n",
       "      <td>3</td>\n",
       "      <td>nan</td>\n",
       "      <td>nan</td>\n",
       "      <td>nan</td>\n",
       "      <td>nan</td>\n",
       "      <td>nan</td>\n",
       "    </tr>\n",
       "    <tr>\n",
       "      <th>mean</th>\n",
       "      <td>NaN</td>\n",
       "      <td>11.392</td>\n",
       "      <td>NaN</td>\n",
       "      <td>-72.554</td>\n",
       "      <td>39.911</td>\n",
       "      <td>-72.570</td>\n",
       "      <td>39.912</td>\n",
       "      <td>1.689</td>\n",
       "    </tr>\n",
       "    <tr>\n",
       "      <th>std</th>\n",
       "      <td>NaN</td>\n",
       "      <td>9.909</td>\n",
       "      <td>NaN</td>\n",
       "      <td>13.007</td>\n",
       "      <td>9.269</td>\n",
       "      <td>13.481</td>\n",
       "      <td>9.189</td>\n",
       "      <td>1.312</td>\n",
       "    </tr>\n",
       "    <tr>\n",
       "      <th>min</th>\n",
       "      <td>NaN</td>\n",
       "      <td>-12.500</td>\n",
       "      <td>NaN</td>\n",
       "      <td>-2260.699</td>\n",
       "      <td>-2154.295</td>\n",
       "      <td>-2260.699</td>\n",
       "      <td>-2154.295</td>\n",
       "      <td>0.000</td>\n",
       "    </tr>\n",
       "    <tr>\n",
       "      <th>25%</th>\n",
       "      <td>NaN</td>\n",
       "      <td>6.000</td>\n",
       "      <td>NaN</td>\n",
       "      <td>-73.992</td>\n",
       "      <td>40.735</td>\n",
       "      <td>-73.991</td>\n",
       "      <td>40.734</td>\n",
       "      <td>1.000</td>\n",
       "    </tr>\n",
       "    <tr>\n",
       "      <th>50%</th>\n",
       "      <td>NaN</td>\n",
       "      <td>8.500</td>\n",
       "      <td>NaN</td>\n",
       "      <td>-73.982</td>\n",
       "      <td>40.753</td>\n",
       "      <td>-73.980</td>\n",
       "      <td>40.753</td>\n",
       "      <td>1.000</td>\n",
       "    </tr>\n",
       "    <tr>\n",
       "      <th>75%</th>\n",
       "      <td>NaN</td>\n",
       "      <td>12.500</td>\n",
       "      <td>NaN</td>\n",
       "      <td>-73.967</td>\n",
       "      <td>40.767</td>\n",
       "      <td>-73.964</td>\n",
       "      <td>40.768</td>\n",
       "      <td>2.000</td>\n",
       "    </tr>\n",
       "    <tr>\n",
       "      <th>max</th>\n",
       "      <td>NaN</td>\n",
       "      <td>500.000</td>\n",
       "      <td>NaN</td>\n",
       "      <td>40.815</td>\n",
       "      <td>400.933</td>\n",
       "      <td>40.833</td>\n",
       "      <td>42.348</td>\n",
       "      <td>6.000</td>\n",
       "    </tr>\n",
       "  </tbody>\n",
       "</table>\n",
       "</div>"
      ],
      "text/plain": [
       "                                key  fare_amount          pickup_datetime  \\\n",
       "count                        100000   100000.000                   100000   \n",
       "unique                       100000          nan                    99111   \n",
       "top     2014-06-14 16:32:19.0000002          nan  2012-09-18 19:44:00 UTC   \n",
       "freq                              1          nan                        3   \n",
       "mean                            NaN       11.392                      NaN   \n",
       "std                             NaN        9.909                      NaN   \n",
       "min                             NaN      -12.500                      NaN   \n",
       "25%                             NaN        6.000                      NaN   \n",
       "50%                             NaN        8.500                      NaN   \n",
       "75%                             NaN       12.500                      NaN   \n",
       "max                             NaN      500.000                      NaN   \n",
       "\n",
       "        pickup_longitude  pickup_latitude  dropoff_longitude  \\\n",
       "count         100000.000       100000.000         100000.000   \n",
       "unique               nan              nan                nan   \n",
       "top                  nan              nan                nan   \n",
       "freq                 nan              nan                nan   \n",
       "mean             -72.554           39.911            -72.570   \n",
       "std               13.007            9.269             13.481   \n",
       "min            -2260.699        -2154.295          -2260.699   \n",
       "25%              -73.992           40.735            -73.991   \n",
       "50%              -73.982           40.753            -73.980   \n",
       "75%              -73.967           40.767            -73.964   \n",
       "max               40.815          400.933             40.833   \n",
       "\n",
       "        dropoff_latitude  passenger_count  \n",
       "count         100000.000       100000.000  \n",
       "unique               nan              nan  \n",
       "top                  nan              nan  \n",
       "freq                 nan              nan  \n",
       "mean              39.912            1.689  \n",
       "std                9.189            1.312  \n",
       "min            -2154.295            0.000  \n",
       "25%               40.734            1.000  \n",
       "50%               40.753            1.000  \n",
       "75%               40.768            2.000  \n",
       "max               42.348            6.000  "
      ]
     },
     "execution_count": 6,
     "metadata": {},
     "output_type": "execute_result"
    }
   ],
   "source": [
    "df.describe(include='all')"
   ]
  },
  {
   "cell_type": "markdown",
   "metadata": {},
   "source": [
    "## Data Sampling"
   ]
  },
  {
   "cell_type": "markdown",
   "metadata": {},
   "source": [
    "### Why to do data sampling ?\n",
    "\n",
    "Data in it's current size is too big. Although we have a 24GB RAM but still current data of 55.42 Million rows (5GB+) is little high to work with. So let's take random sample of the data and work with that for the prototyping stage."
   ]
  },
  {
   "cell_type": "markdown",
   "metadata": {},
   "source": [
    "### How to Sample data in Pandas ?"
   ]
  },
  {
   "cell_type": "code",
   "execution_count": 9,
   "metadata": {},
   "outputs": [],
   "source": [
    "df1 = df.sample(10000)\n",
    "df1.to_csv('sample_csv.csv')\n",
    "\n",
    "df = pd.read_csv('sample_csv.csv') "
   ]
  },
  {
   "cell_type": "markdown",
   "metadata": {},
   "source": [
    "## Alrighty, So let's start with Exploratory Data Analysis now.\n",
    "There are three major steps in EDA\n",
    "1. Data Understanding\n",
    "2. Data Cleaning (Handling of Missing Values and Invalid Values)\n",
    "3. Data Transformation and Manipulation (New feature creation and selection of the most important features using visualization and statistical analysis)"
   ]
  },
  {
   "cell_type": "markdown",
   "metadata": {},
   "source": [
    "## Data Understanding"
   ]
  },
  {
   "cell_type": "markdown",
   "metadata": {},
   "source": [
    "### Let's see what kind of data we have in the sample"
   ]
  },
  {
   "cell_type": "code",
   "execution_count": 10,
   "metadata": {},
   "outputs": [
    {
     "data": {
      "text/html": [
       "<div>\n",
       "<style scoped>\n",
       "    .dataframe tbody tr th:only-of-type {\n",
       "        vertical-align: middle;\n",
       "    }\n",
       "\n",
       "    .dataframe tbody tr th {\n",
       "        vertical-align: top;\n",
       "    }\n",
       "\n",
       "    .dataframe thead th {\n",
       "        text-align: right;\n",
       "    }\n",
       "</style>\n",
       "<table border=\"1\" class=\"dataframe\">\n",
       "  <thead>\n",
       "    <tr style=\"text-align: right;\">\n",
       "      <th></th>\n",
       "      <th>Unnamed: 0</th>\n",
       "      <th>key</th>\n",
       "      <th>fare_amount</th>\n",
       "      <th>pickup_datetime</th>\n",
       "      <th>pickup_longitude</th>\n",
       "      <th>pickup_latitude</th>\n",
       "      <th>dropoff_longitude</th>\n",
       "      <th>dropoff_latitude</th>\n",
       "      <th>passenger_count</th>\n",
       "    </tr>\n",
       "  </thead>\n",
       "  <tbody>\n",
       "    <tr>\n",
       "      <th>0</th>\n",
       "      <td>48754</td>\n",
       "      <td>2015-02-12 22:19:03.00000013</td>\n",
       "      <td>10.000</td>\n",
       "      <td>2015-02-12 22:19:03 UTC</td>\n",
       "      <td>-73.986</td>\n",
       "      <td>40.758</td>\n",
       "      <td>-74.004</td>\n",
       "      <td>40.736</td>\n",
       "      <td>1</td>\n",
       "    </tr>\n",
       "    <tr>\n",
       "      <th>1</th>\n",
       "      <td>1022</td>\n",
       "      <td>2012-03-05 13:28:06.0000001</td>\n",
       "      <td>13.700</td>\n",
       "      <td>2012-03-05 13:28:06 UTC</td>\n",
       "      <td>-73.961</td>\n",
       "      <td>40.812</td>\n",
       "      <td>-73.985</td>\n",
       "      <td>40.768</td>\n",
       "      <td>2</td>\n",
       "    </tr>\n",
       "    <tr>\n",
       "      <th>2</th>\n",
       "      <td>26746</td>\n",
       "      <td>2014-10-11 10:32:00.00000031</td>\n",
       "      <td>7.500</td>\n",
       "      <td>2014-10-11 10:32:00 UTC</td>\n",
       "      <td>-73.980</td>\n",
       "      <td>40.759</td>\n",
       "      <td>-74.000</td>\n",
       "      <td>40.759</td>\n",
       "      <td>2</td>\n",
       "    </tr>\n",
       "    <tr>\n",
       "      <th>3</th>\n",
       "      <td>94738</td>\n",
       "      <td>2012-05-09 08:14:27.0000004</td>\n",
       "      <td>7.300</td>\n",
       "      <td>2012-05-09 08:14:27 UTC</td>\n",
       "      <td>-73.981</td>\n",
       "      <td>40.750</td>\n",
       "      <td>-74.001</td>\n",
       "      <td>40.758</td>\n",
       "      <td>1</td>\n",
       "    </tr>\n",
       "    <tr>\n",
       "      <th>4</th>\n",
       "      <td>80059</td>\n",
       "      <td>2012-11-01 02:18:50.0000003</td>\n",
       "      <td>12.000</td>\n",
       "      <td>2012-11-01 02:18:50 UTC</td>\n",
       "      <td>-74.010</td>\n",
       "      <td>40.712</td>\n",
       "      <td>-73.992</td>\n",
       "      <td>40.758</td>\n",
       "      <td>1</td>\n",
       "    </tr>\n",
       "  </tbody>\n",
       "</table>\n",
       "</div>"
      ],
      "text/plain": [
       "   Unnamed: 0                           key  fare_amount  \\\n",
       "0       48754  2015-02-12 22:19:03.00000013       10.000   \n",
       "1        1022   2012-03-05 13:28:06.0000001       13.700   \n",
       "2       26746  2014-10-11 10:32:00.00000031        7.500   \n",
       "3       94738   2012-05-09 08:14:27.0000004        7.300   \n",
       "4       80059   2012-11-01 02:18:50.0000003       12.000   \n",
       "\n",
       "           pickup_datetime  pickup_longitude  pickup_latitude  \\\n",
       "0  2015-02-12 22:19:03 UTC           -73.986           40.758   \n",
       "1  2012-03-05 13:28:06 UTC           -73.961           40.812   \n",
       "2  2014-10-11 10:32:00 UTC           -73.980           40.759   \n",
       "3  2012-05-09 08:14:27 UTC           -73.981           40.750   \n",
       "4  2012-11-01 02:18:50 UTC           -74.010           40.712   \n",
       "\n",
       "   dropoff_longitude  dropoff_latitude  passenger_count  \n",
       "0            -74.004            40.736                1  \n",
       "1            -73.985            40.768                2  \n",
       "2            -74.000            40.759                2  \n",
       "3            -74.001            40.758                1  \n",
       "4            -73.992            40.758                1  "
      ]
     },
     "execution_count": 10,
     "metadata": {},
     "output_type": "execute_result"
    }
   ],
   "source": [
    "df.head()"
   ]
  },
  {
   "cell_type": "markdown",
   "metadata": {},
   "source": [
    "### Lets Describe the Sample Dataset"
   ]
  },
  {
   "cell_type": "code",
   "execution_count": 12,
   "metadata": {},
   "outputs": [
    {
     "data": {
      "text/html": [
       "<div>\n",
       "<style scoped>\n",
       "    .dataframe tbody tr th:only-of-type {\n",
       "        vertical-align: middle;\n",
       "    }\n",
       "\n",
       "    .dataframe tbody tr th {\n",
       "        vertical-align: top;\n",
       "    }\n",
       "\n",
       "    .dataframe thead th {\n",
       "        text-align: right;\n",
       "    }\n",
       "</style>\n",
       "<table border=\"1\" class=\"dataframe\">\n",
       "  <thead>\n",
       "    <tr style=\"text-align: right;\">\n",
       "      <th></th>\n",
       "      <th>Unnamed: 0</th>\n",
       "      <th>fare_amount</th>\n",
       "      <th>pickup_longitude</th>\n",
       "      <th>pickup_latitude</th>\n",
       "      <th>dropoff_longitude</th>\n",
       "      <th>dropoff_latitude</th>\n",
       "      <th>passenger_count</th>\n",
       "    </tr>\n",
       "  </thead>\n",
       "  <tbody>\n",
       "    <tr>\n",
       "      <th>count</th>\n",
       "      <td>10000.000</td>\n",
       "      <td>10000.000</td>\n",
       "      <td>10000.000</td>\n",
       "      <td>10000.000</td>\n",
       "      <td>10000.000</td>\n",
       "      <td>10000.000</td>\n",
       "      <td>10000.000</td>\n",
       "    </tr>\n",
       "    <tr>\n",
       "      <th>mean</th>\n",
       "      <td>50096.807</td>\n",
       "      <td>11.473</td>\n",
       "      <td>-72.523</td>\n",
       "      <td>39.920</td>\n",
       "      <td>-72.559</td>\n",
       "      <td>39.941</td>\n",
       "      <td>1.695</td>\n",
       "    </tr>\n",
       "    <tr>\n",
       "      <th>std</th>\n",
       "      <td>29148.818</td>\n",
       "      <td>9.767</td>\n",
       "      <td>10.399</td>\n",
       "      <td>6.186</td>\n",
       "      <td>10.271</td>\n",
       "      <td>6.121</td>\n",
       "      <td>1.324</td>\n",
       "    </tr>\n",
       "    <tr>\n",
       "      <th>min</th>\n",
       "      <td>1.000</td>\n",
       "      <td>-4.500</td>\n",
       "      <td>-75.423</td>\n",
       "      <td>-73.993</td>\n",
       "      <td>-75.339</td>\n",
       "      <td>-74.006</td>\n",
       "      <td>0.000</td>\n",
       "    </tr>\n",
       "    <tr>\n",
       "      <th>25%</th>\n",
       "      <td>24714.000</td>\n",
       "      <td>6.100</td>\n",
       "      <td>-73.992</td>\n",
       "      <td>40.734</td>\n",
       "      <td>-73.991</td>\n",
       "      <td>40.735</td>\n",
       "      <td>1.000</td>\n",
       "    </tr>\n",
       "    <tr>\n",
       "      <th>50%</th>\n",
       "      <td>50385.500</td>\n",
       "      <td>8.500</td>\n",
       "      <td>-73.982</td>\n",
       "      <td>40.752</td>\n",
       "      <td>-73.980</td>\n",
       "      <td>40.753</td>\n",
       "      <td>1.000</td>\n",
       "    </tr>\n",
       "    <tr>\n",
       "      <th>75%</th>\n",
       "      <td>75659.750</td>\n",
       "      <td>12.675</td>\n",
       "      <td>-73.967</td>\n",
       "      <td>40.767</td>\n",
       "      <td>-73.964</td>\n",
       "      <td>40.768</td>\n",
       "      <td>2.000</td>\n",
       "    </tr>\n",
       "    <tr>\n",
       "      <th>max</th>\n",
       "      <td>99991.000</td>\n",
       "      <td>165.000</td>\n",
       "      <td>40.787</td>\n",
       "      <td>42.348</td>\n",
       "      <td>40.784</td>\n",
       "      <td>42.348</td>\n",
       "      <td>6.000</td>\n",
       "    </tr>\n",
       "  </tbody>\n",
       "</table>\n",
       "</div>"
      ],
      "text/plain": [
       "       Unnamed: 0  fare_amount  pickup_longitude  pickup_latitude  \\\n",
       "count   10000.000    10000.000         10000.000        10000.000   \n",
       "mean    50096.807       11.473           -72.523           39.920   \n",
       "std     29148.818        9.767            10.399            6.186   \n",
       "min         1.000       -4.500           -75.423          -73.993   \n",
       "25%     24714.000        6.100           -73.992           40.734   \n",
       "50%     50385.500        8.500           -73.982           40.752   \n",
       "75%     75659.750       12.675           -73.967           40.767   \n",
       "max     99991.000      165.000            40.787           42.348   \n",
       "\n",
       "       dropoff_longitude  dropoff_latitude  passenger_count  \n",
       "count          10000.000         10000.000        10000.000  \n",
       "mean             -72.559            39.941            1.695  \n",
       "std               10.271             6.121            1.324  \n",
       "min              -75.339           -74.006            0.000  \n",
       "25%              -73.991            40.735            1.000  \n",
       "50%              -73.980            40.753            1.000  \n",
       "75%              -73.964            40.768            2.000  \n",
       "max               40.784            42.348            6.000  "
      ]
     },
     "execution_count": 12,
     "metadata": {},
     "output_type": "execute_result"
    }
   ],
   "source": [
    "df.describe()"
   ]
  },
  {
   "cell_type": "markdown",
   "metadata": {},
   "source": [
    "### Let's explore the passenger_count variable a little more"
   ]
  },
  {
   "cell_type": "markdown",
   "metadata": {},
   "source": [
    "Let's see for each passenger_count how many trips are occurring"
   ]
  },
  {
   "cell_type": "code",
   "execution_count": 13,
   "metadata": {},
   "outputs": [
    {
     "data": {
      "text/plain": [
       "1    6928\n",
       "2    1426\n",
       "5     746\n",
       "3     442\n",
       "4     213\n",
       "6     211\n",
       "0      34\n",
       "Name: passenger_count, dtype: int64"
      ]
     },
     "execution_count": 13,
     "metadata": {},
     "output_type": "execute_result"
    }
   ],
   "source": [
    "df['passenger_count'].value_counts()"
   ]
  },
  {
   "cell_type": "markdown",
   "metadata": {},
   "source": [
    "We can see that there are some irregularities in these numbers as \n",
    "1. It's impossible to have 208 passengers in a cab trip. Unless cab is actually a train :P\n",
    "2. It's also theoretically impossible to have 0 passengers in a cab trip.\n",
    "3. Also 49,34,7,8 and 9 are very high and unusual numbers for the passenger count and their less frequency makes them more \n",
    "unusual\n",
    "#### Conclusion - Based on the above three points remove all the trips from data where such values are observed"
   ]
  },
  {
   "cell_type": "markdown",
   "metadata": {},
   "source": [
    "### Let's explore the fare_amount variable now"
   ]
  },
  {
   "cell_type": "code",
   "execution_count": 14,
   "metadata": {},
   "outputs": [
    {
     "data": {
      "text/plain": [
       "count   10000.000\n",
       "mean       11.473\n",
       "std         9.767\n",
       "min        -4.500\n",
       "25%         6.100\n",
       "50%         8.500\n",
       "75%        12.675\n",
       "max       165.000\n",
       "Name: fare_amount, dtype: float64"
      ]
     },
     "execution_count": 14,
     "metadata": {},
     "output_type": "execute_result"
    }
   ],
   "source": [
    "df['fare_amount'].describe()"
   ]
  },
  {
   "cell_type": "markdown",
   "metadata": {},
   "source": [
    "We can directly see from the above numbers that there is some pecularities in this data as well. \n",
    "1. Fare can't be negative (-107.750 USD)\n",
    "2. In NYC Fare can't be less than 2.5USD for any cab trip\n",
    "3. Cab Fare of 93963.36 USD must be a data entry mistake or some kind of other technical issue.\n",
    "#### Conclusion - Based on all of the above points remove all the trips from data where such values are observed"
   ]
  },
  {
   "cell_type": "markdown",
   "metadata": {},
   "source": [
    "### Let's see how's the fare_amount between 2.5 USD and 100 USD distributed"
   ]
  },
  {
   "cell_type": "code",
   "execution_count": 19,
   "metadata": {},
   "outputs": [
    {
     "data": {
      "text/plain": [
       "<matplotlib.axes._subplots.AxesSubplot at 0xa757208>"
      ]
     },
     "execution_count": 19,
     "metadata": {},
     "output_type": "execute_result"
    },
    {
     "data": {
      "image/png": "[encoded data removed]",
      "text/plain": [
       "<Figure size 432x288 with 1 Axes>"
      ]
     },
     "metadata": {},
     "output_type": "display_data"
    }
   ],
   "source": [
    "df[(df['fare_amount']>0) & (df['fare_amount']< 50)]['fare_amount'].hist()"
   ]
  },
  {
   "cell_type": "markdown",
   "metadata": {},
   "source": [
    "### Let's explore this distribution granularly using bins"
   ]
  },
  {
   "cell_type": "code",
   "execution_count": 16,
   "metadata": {},
   "outputs": [
    {
     "data": {
      "text/plain": [
       "(1, 10]          6129\n",
       "(10, 20]         2823\n",
       "(20, 30]          508\n",
       "(30, 40]          251\n",
       "(40, 50]          162\n",
       "(50, 60]           99\n",
       "(60, 70]           11\n",
       "(70, 80]            6\n",
       "(100, 200]          4\n",
       "(80, 90]            4\n",
       "(90, 100]           1\n",
       "(1000, 10000]       0\n",
       "(200, 1000]         0\n",
       "Name: fare_amount, dtype: int64"
      ]
     },
     "execution_count": 16,
     "metadata": {},
     "output_type": "execute_result"
    }
   ],
   "source": [
    "bins = [1,10,20,30,40,50,60,70,80,90,100,200,1000,10000]\n",
    "pd.cut(df['fare_amount'],bins).value_counts()"
   ]
  },
  {
   "cell_type": "code",
   "execution_count": 21,
   "metadata": {},
   "outputs": [
    {
     "data": {
      "text/plain": [
       "(1, 10]     0.765\n",
       "(10, 20]    0.147\n",
       "(20, 30]    0.059\n",
       "(40, 50]    0.029\n",
       "(90, 100]   0.000\n",
       "(80, 90]    0.000\n",
       "(70, 80]    0.000\n",
       "(60, 70]    0.000\n",
       "(50, 60]    0.000\n",
       "(30, 40]    0.000\n",
       "Name: fare_amount, dtype: float64"
      ]
     },
     "execution_count": 21,
     "metadata": {},
     "output_type": "execute_result"
    }
   ],
   "source": [
    "bins = [1,10,20,30,40,50,60,70,80,90,100]\n",
    "(pd.cut(df[df['passenger_count']==0]['fare_amount'],bins).value_counts())/len(df[df['passenger_count']== 0])"
   ]
  },
  {
   "cell_type": "code",
   "execution_count": 23,
   "metadata": {},
   "outputs": [
    {
     "data": {
      "text/plain": [
       "<matplotlib.axes._subplots.AxesSubplot at 0xab2f780>"
      ]
     },
     "execution_count": 23,
     "metadata": {},
     "output_type": "execute_result"
    },
    {
     "data": {
      "image/png": "[encoded data removed]",
      "text/plain": [
       "<Figure size 432x288 with 1 Axes>"
      ]
     },
     "metadata": {},
     "output_type": "display_data"
    }
   ],
   "source": [
    "df[(df['passenger_count']==0) &(df['passenger_count']<20)]['fare_amount'].hist()"
   ]
  },
  {
   "cell_type": "code",
   "execution_count": null,
   "metadata": {},
   "outputs": [],
   "source": [
    "# Should we use this data (Zero Passenger data) for our model building"
   ]
  }
 ],
 "metadata": {
  "kernelspec": {
   "display_name": "Python 3",
   "language": "python",
   "name": "python3"
  },
  "language_info": {
   "codemirror_mode": {
    "name": "ipython",
    "version": 3
   },
   "file_extension": ".py",
   "mimetype": "text/x-python",
   "name": "python",
   "nbconvert_exporter": "python",
   "pygments_lexer": "ipython3",
   "version": "3.6.5"
  }
 },
 "nbformat": 4,
 "nbformat_minor": 2
}
